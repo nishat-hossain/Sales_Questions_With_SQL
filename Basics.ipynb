{
 "cells": [
  {
   "cell_type": "markdown",
   "metadata": {},
   "source": [
    "## Analyzing the Chinook Mock Database to Answer Sales Questions"
   ]
  },
  {
   "cell_type": "markdown",
   "metadata": {},
   "source": [
    "Load sql extension and connect to the Chinook database"
   ]
  },
  {
   "cell_type": "code",
   "execution_count": 79,
   "metadata": {},
   "outputs": [
    {
     "name": "stdout",
     "output_type": "stream",
     "text": [
      "The sql extension is already loaded. To reload it, use:\n",
      "  %reload_ext sql\n"
     ]
    },
    {
     "data": {
      "text/plain": [
       "'Connected: @chinook.db'"
      ]
     },
     "execution_count": 79,
     "metadata": {},
     "output_type": "execute_result"
    }
   ],
   "source": [
    "%load_ext sql\n",
    "%sql sqlite:///chinook.db"
   ]
  },
  {
   "cell_type": "markdown",
   "metadata": {},
   "source": [
    "## Overview of the Chinook database"
   ]
  },
  {
   "cell_type": "code",
   "execution_count": 80,
   "metadata": {},
   "outputs": [
    {
     "name": "stdout",
     "output_type": "stream",
     "text": [
      " * sqlite:///chinook.db\n",
      "Done.\n"
     ]
    },
    {
     "data": {
      "text/html": [
       "<table>\n",
       "    <thead>\n",
       "        <tr>\n",
       "            <th>name</th>\n",
       "            <th>type</th>\n",
       "        </tr>\n",
       "    </thead>\n",
       "    <tbody>\n",
       "        <tr>\n",
       "            <td>album</td>\n",
       "            <td>table</td>\n",
       "        </tr>\n",
       "        <tr>\n",
       "            <td>artist</td>\n",
       "            <td>table</td>\n",
       "        </tr>\n",
       "        <tr>\n",
       "            <td>customer</td>\n",
       "            <td>table</td>\n",
       "        </tr>\n",
       "        <tr>\n",
       "            <td>employee</td>\n",
       "            <td>table</td>\n",
       "        </tr>\n",
       "        <tr>\n",
       "            <td>genre</td>\n",
       "            <td>table</td>\n",
       "        </tr>\n",
       "        <tr>\n",
       "            <td>invoice</td>\n",
       "            <td>table</td>\n",
       "        </tr>\n",
       "        <tr>\n",
       "            <td>invoice_line</td>\n",
       "            <td>table</td>\n",
       "        </tr>\n",
       "        <tr>\n",
       "            <td>media_type</td>\n",
       "            <td>table</td>\n",
       "        </tr>\n",
       "        <tr>\n",
       "            <td>playlist</td>\n",
       "            <td>table</td>\n",
       "        </tr>\n",
       "        <tr>\n",
       "            <td>playlist_track</td>\n",
       "            <td>table</td>\n",
       "        </tr>\n",
       "        <tr>\n",
       "            <td>track</td>\n",
       "            <td>table</td>\n",
       "        </tr>\n",
       "    </tbody>\n",
       "</table>"
      ],
      "text/plain": [
       "[('album', 'table'),\n",
       " ('artist', 'table'),\n",
       " ('customer', 'table'),\n",
       " ('employee', 'table'),\n",
       " ('genre', 'table'),\n",
       " ('invoice', 'table'),\n",
       " ('invoice_line', 'table'),\n",
       " ('media_type', 'table'),\n",
       " ('playlist', 'table'),\n",
       " ('playlist_track', 'table'),\n",
       " ('track', 'table')]"
      ]
     },
     "execution_count": 80,
     "metadata": {},
     "output_type": "execute_result"
    }
   ],
   "source": [
    "%%sql\n",
    "SELECT \n",
    "    name,\n",
    "    type\n",
    "FROM sqlite_master\n",
    "WHERE type IN (\"table\",\"view\");"
   ]
  },
  {
   "cell_type": "markdown",
   "metadata": {},
   "source": [
    "## Which Album Genres Sell the Most?"
   ]
  },
  {
   "cell_type": "code",
   "execution_count": 81,
   "metadata": {},
   "outputs": [
    {
     "name": "stdout",
     "output_type": "stream",
     "text": [
      " * sqlite:///chinook.db\n",
      "Done.\n"
     ]
    },
    {
     "data": {
      "text/html": [
       "<table>\n",
       "    <thead>\n",
       "        <tr>\n",
       "            <th>name</th>\n",
       "            <th>quantity</th>\n",
       "            <th>percentage</th>\n",
       "        </tr>\n",
       "    </thead>\n",
       "    <tbody>\n",
       "        <tr>\n",
       "            <td>Rock</td>\n",
       "            <td>561</td>\n",
       "            <td>53.38%</td>\n",
       "        </tr>\n",
       "        <tr>\n",
       "            <td>Alternative &amp; Punk</td>\n",
       "            <td>130</td>\n",
       "            <td>12.37%</td>\n",
       "        </tr>\n",
       "        <tr>\n",
       "            <td>Metal</td>\n",
       "            <td>124</td>\n",
       "            <td>11.8%</td>\n",
       "        </tr>\n",
       "        <tr>\n",
       "            <td>R&amp;B/Soul</td>\n",
       "            <td>53</td>\n",
       "            <td>5.04%</td>\n",
       "        </tr>\n",
       "        <tr>\n",
       "            <td>Blues</td>\n",
       "            <td>36</td>\n",
       "            <td>3.43%</td>\n",
       "        </tr>\n",
       "        <tr>\n",
       "            <td>Alternative</td>\n",
       "            <td>35</td>\n",
       "            <td>3.33%</td>\n",
       "        </tr>\n",
       "        <tr>\n",
       "            <td>Pop</td>\n",
       "            <td>22</td>\n",
       "            <td>2.09%</td>\n",
       "        </tr>\n",
       "        <tr>\n",
       "            <td>Latin</td>\n",
       "            <td>22</td>\n",
       "            <td>2.09%</td>\n",
       "        </tr>\n",
       "        <tr>\n",
       "            <td>Hip Hop/Rap</td>\n",
       "            <td>20</td>\n",
       "            <td>1.9%</td>\n",
       "        </tr>\n",
       "        <tr>\n",
       "            <td>Jazz</td>\n",
       "            <td>14</td>\n",
       "            <td>1.33%</td>\n",
       "        </tr>\n",
       "        <tr>\n",
       "            <td>Easy Listening</td>\n",
       "            <td>13</td>\n",
       "            <td>1.24%</td>\n",
       "        </tr>\n",
       "        <tr>\n",
       "            <td>Reggae</td>\n",
       "            <td>6</td>\n",
       "            <td>0.57%</td>\n",
       "        </tr>\n",
       "        <tr>\n",
       "            <td>Electronica/Dance</td>\n",
       "            <td>5</td>\n",
       "            <td>0.48%</td>\n",
       "        </tr>\n",
       "        <tr>\n",
       "            <td>Classical</td>\n",
       "            <td>4</td>\n",
       "            <td>0.38%</td>\n",
       "        </tr>\n",
       "        <tr>\n",
       "            <td>Heavy Metal</td>\n",
       "            <td>3</td>\n",
       "            <td>0.29%</td>\n",
       "        </tr>\n",
       "        <tr>\n",
       "            <td>Soundtrack</td>\n",
       "            <td>2</td>\n",
       "            <td>0.19%</td>\n",
       "        </tr>\n",
       "        <tr>\n",
       "            <td>TV Shows</td>\n",
       "            <td>1</td>\n",
       "            <td>0.1%</td>\n",
       "        </tr>\n",
       "    </tbody>\n",
       "</table>"
      ],
      "text/plain": [
       "[('Rock', 561, '53.38%'),\n",
       " ('Alternative & Punk', 130, '12.37%'),\n",
       " ('Metal', 124, '11.8%'),\n",
       " ('R&B/Soul', 53, '5.04%'),\n",
       " ('Blues', 36, '3.43%'),\n",
       " ('Alternative', 35, '3.33%'),\n",
       " ('Pop', 22, '2.09%'),\n",
       " ('Latin', 22, '2.09%'),\n",
       " ('Hip Hop/Rap', 20, '1.9%'),\n",
       " ('Jazz', 14, '1.33%'),\n",
       " ('Easy Listening', 13, '1.24%'),\n",
       " ('Reggae', 6, '0.57%'),\n",
       " ('Electronica/Dance', 5, '0.48%'),\n",
       " ('Classical', 4, '0.38%'),\n",
       " ('Heavy Metal', 3, '0.29%'),\n",
       " ('Soundtrack', 2, '0.19%'),\n",
       " ('TV Shows', 1, '0.1%')]"
      ]
     },
     "execution_count": 81,
     "metadata": {},
     "output_type": "execute_result"
    }
   ],
   "source": [
    "%%sql\n",
    "\n",
    "WITH tracks_sold_usa AS\n",
    "    (SELECT il.track_id track_id, SUM(il.quantity) quantity\n",
    "       FROM invoice_line il\n",
    "      INNER JOIN invoice i on i.invoice_id = il.invoice_id\n",
    "      WHERE i.billing_country = \"USA\"\n",
    "      GROUP BY track_id\n",
    "     ),\n",
    "    \n",
    "     genre_sold AS\n",
    "    (SELECT g.name name, \n",
    "            SUM(ts.quantity) quantity\n",
    "       FROM genre g\n",
    "       LEFT JOIN track t on t.genre_id=g.genre_id\n",
    "      INNER JOIN tracks_sold_usa ts on ts.track_id=t.track_id\n",
    "      GROUP BY g.name\n",
    "      ORDER BY quantity DESC\n",
    "    )\n",
    "        \n",
    "\n",
    "SELECT *, \n",
    "       ROUND((CAST(quantity AS FLOAT)/(SELECT SUM(quantity)FROM genre_sold))*100,2)||\"%\" percentage\n",
    "FROM genre_sold;"
   ]
  },
  {
   "cell_type": "markdown",
   "metadata": {},
   "source": [
    "Most sold genres in the USA are 1) Rock, 2) Metal, and 3) Alternative & Punk. "
   ]
  },
  {
   "cell_type": "markdown",
   "metadata": {},
   "source": [
    "## Analyzing Employee Sales Data: Do Variances in Sales Point to Employee Performance?"
   ]
  },
  {
   "cell_type": "code",
   "execution_count": 82,
   "metadata": {},
   "outputs": [
    {
     "name": "stdout",
     "output_type": "stream",
     "text": [
      " * sqlite:///chinook.db\n",
      "Done.\n"
     ]
    },
    {
     "data": {
      "text/html": [
       "<table>\n",
       "    <thead>\n",
       "        <tr>\n",
       "            <th>name</th>\n",
       "            <th>hire_date</th>\n",
       "            <th>sales</th>\n",
       "        </tr>\n",
       "    </thead>\n",
       "    <tbody>\n",
       "        <tr>\n",
       "            <td>Jane Peacock</td>\n",
       "            <td>2017-04-01 00:00:00</td>\n",
       "            <td>$1731.51</td>\n",
       "        </tr>\n",
       "        <tr>\n",
       "            <td>Margaret Park</td>\n",
       "            <td>2017-05-03 00:00:00</td>\n",
       "            <td>$1584.0</td>\n",
       "        </tr>\n",
       "        <tr>\n",
       "            <td>Steve Johnson</td>\n",
       "            <td>2017-10-17 00:00:00</td>\n",
       "            <td>$1393.92</td>\n",
       "        </tr>\n",
       "    </tbody>\n",
       "</table>"
      ],
      "text/plain": [
       "[('Jane Peacock', '2017-04-01 00:00:00', '$1731.51'),\n",
       " ('Margaret Park', '2017-05-03 00:00:00', '$1584.0'),\n",
       " ('Steve Johnson', '2017-10-17 00:00:00', '$1393.92')]"
      ]
     },
     "execution_count": 82,
     "metadata": {},
     "output_type": "execute_result"
    }
   ],
   "source": [
    "%%sql\n",
    "\n",
    "WITH total_per_customer AS\n",
    "     (SELECT customer_id, SUM(total) total\n",
    "        FROM invoice\n",
    "       GROUP BY customer_id\n",
    "     ),\n",
    "    \n",
    "     sales_per_rep AS\n",
    "    (SELECT c.support_rep_id rep_id, SUM(tpc.total) sales\n",
    "       FROM customer c\n",
    "       LEFT JOIN total_per_customer tpc ON tpc.customer_id=c.customer_id\n",
    "      GROUP BY rep_id\n",
    "     ),\n",
    "    \n",
    "    sales_per_employee AS\n",
    "    (SELECT e.first_name||\" \"||e.last_name name, e.hire_date, \"$\"||ROUND(SUM(spr.sales),2) sales\n",
    "       FROM employee e\n",
    "       LEFT JOIN sales_per_rep spr on spr.rep_id=e.employee_id\n",
    "      WHERE e.title = \"Sales Support Agent\"\n",
    "      GROUP BY e.employee_id\n",
    "      ORDER BY sales DESC\n",
    "    )\n",
    "    \n",
    "SELECT *\n",
    "  FROM sales_per_employee;\n",
    "     "
   ]
  },
  {
   "cell_type": "markdown",
   "metadata": {},
   "source": [
    "Variance in sales dollars per Sales Support Agent seems to correlate to the date of hire: reps hired earlier in time have more sales. Variance does not seem to be indicative of employee performance e.g. the 20% difference in sales between the top selling employee and the bottom selling employee roughly corresponds to the differences in their hiring dates."
   ]
  },
  {
   "cell_type": "markdown",
   "metadata": {},
   "source": [
    "## Analyzing Sales by Country: Which Countries Could be Targets for New Opportunity?"
   ]
  },
  {
   "cell_type": "code",
   "execution_count": 83,
   "metadata": {},
   "outputs": [
    {
     "name": "stdout",
     "output_type": "stream",
     "text": [
      " * sqlite:///chinook.db\n",
      "Done.\n"
     ]
    },
    {
     "data": {
      "text/html": [
       "<table>\n",
       "    <thead>\n",
       "        <tr>\n",
       "            <th>country</th>\n",
       "            <th>customers</th>\n",
       "            <th>sales_amount</th>\n",
       "            <th>avg_sale_customer</th>\n",
       "            <th>avg_order</th>\n",
       "        </tr>\n",
       "    </thead>\n",
       "    <tbody>\n",
       "        <tr>\n",
       "            <td>Canada</td>\n",
       "            <td>8</td>\n",
       "            <td>$535.59</td>\n",
       "            <td>$66.95</td>\n",
       "            <td>$535.59</td>\n",
       "        </tr>\n",
       "        <tr>\n",
       "            <td>Brazil</td>\n",
       "            <td>5</td>\n",
       "            <td>$427.68</td>\n",
       "            <td>$85.54</td>\n",
       "            <td>$427.68</td>\n",
       "        </tr>\n",
       "        <tr>\n",
       "            <td>France</td>\n",
       "            <td>5</td>\n",
       "            <td>$389.07</td>\n",
       "            <td>$77.81</td>\n",
       "            <td>$389.07</td>\n",
       "        </tr>\n",
       "        <tr>\n",
       "            <td>Germany</td>\n",
       "            <td>4</td>\n",
       "            <td>$334.62</td>\n",
       "            <td>$83.66</td>\n",
       "            <td>$334.62</td>\n",
       "        </tr>\n",
       "        <tr>\n",
       "            <td>Czech Republic</td>\n",
       "            <td>2</td>\n",
       "            <td>$273.24</td>\n",
       "            <td>$136.62</td>\n",
       "            <td>$273.24</td>\n",
       "        </tr>\n",
       "        <tr>\n",
       "            <td>United Kingdom</td>\n",
       "            <td>3</td>\n",
       "            <td>$245.52</td>\n",
       "            <td>$81.84</td>\n",
       "            <td>$245.52</td>\n",
       "        </tr>\n",
       "        <tr>\n",
       "            <td>Portugal</td>\n",
       "            <td>2</td>\n",
       "            <td>$185.13</td>\n",
       "            <td>$92.57</td>\n",
       "            <td>$185.13</td>\n",
       "        </tr>\n",
       "        <tr>\n",
       "            <td>India</td>\n",
       "            <td>2</td>\n",
       "            <td>$183.15</td>\n",
       "            <td>$91.58</td>\n",
       "            <td>$183.15</td>\n",
       "        </tr>\n",
       "        <tr>\n",
       "            <td>USA</td>\n",
       "            <td>13</td>\n",
       "            <td>$1040.49</td>\n",
       "            <td>$80.04</td>\n",
       "            <td>$1040.49</td>\n",
       "        </tr>\n",
       "        <tr>\n",
       "            <td>Other</td>\n",
       "            <td>15</td>\n",
       "            <td>$1094.94</td>\n",
       "            <td>$73.0</td>\n",
       "            <td>$73.0</td>\n",
       "        </tr>\n",
       "    </tbody>\n",
       "</table>"
      ],
      "text/plain": [
       "[('Canada', 8, '$535.59', '$66.95', '$535.59'),\n",
       " ('Brazil', 5, '$427.68', '$85.54', '$427.68'),\n",
       " ('France', 5, '$389.07', '$77.81', '$389.07'),\n",
       " ('Germany', 4, '$334.62', '$83.66', '$334.62'),\n",
       " ('Czech Republic', 2, '$273.24', '$136.62', '$273.24'),\n",
       " ('United Kingdom', 3, '$245.52', '$81.84', '$245.52'),\n",
       " ('Portugal', 2, '$185.13', '$92.57', '$185.13'),\n",
       " ('India', 2, '$183.15', '$91.58', '$183.15'),\n",
       " ('USA', 13, '$1040.49', '$80.04', '$1040.49'),\n",
       " ('Other', 15, '$1094.94', '$73.0', '$73.0')]"
      ]
     },
     "execution_count": 83,
     "metadata": {},
     "output_type": "execute_result"
    }
   ],
   "source": [
    "%%sql\n",
    "\n",
    "WITH customer_sales AS \n",
    "    (SELECT customer_id, \n",
    "            COUNT(invoice_id) sales,\n",
    "            SUM(total) sales_revenue \n",
    "       FROM invoice \n",
    "      GROUP BY customer_id\n",
    "    ),\n",
    "    \n",
    "    country_sales AS \n",
    "    (SELECT country, \n",
    "            COUNT(cs.customer_id) customers, \n",
    "            SUM(sales) sales, \n",
    "            ROUND(SUM(sales_revenue),2) sales_amount\n",
    "       FROM customer c\n",
    "       LEFT JOIN customer_sales cs ON cs.customer_id=c.customer_id\n",
    "      GROUP BY country\n",
    "    ),\n",
    "    \n",
    "    country_grouped AS \n",
    "    (SELECT *,\n",
    "            CASE \n",
    "            WHEN customers < 2 THEN \"Other\"\n",
    "            ELSE country\n",
    "            END AS country_grouping\n",
    "       FROM country_sales),\n",
    "    \n",
    "    country_grouped_sales AS\n",
    "    (SELECT country_grouping country, \n",
    "            SUM(customers) customers,\n",
    "            SUM(sales_amount) sales_amount,\n",
    "            COUNT(sales) sales,\n",
    "            CASE\n",
    "                WHEN country_grouping = \"Other\" THEN 2\n",
    "                ELSE 0\n",
    "            END AS sort\n",
    "       FROM country_grouped\n",
    "      GROUP BY country_grouping\n",
    "    )\n",
    "    \n",
    "SELECT country,\n",
    "       customers,\n",
    "       \"$\"||sales_amount sales_amount,\n",
    "       \"$\"||ROUND(sales_amount/customers,2) avg_sale_customer,\n",
    "       \"$\"||ROUND(sales_amount/sales,2) avg_order\n",
    "  FROM country_grouped_sales\n",
    " ORDER BY sort, sales_amount DESC;\n",
    "    "
   ]
  },
  {
   "cell_type": "markdown",
   "metadata": {},
   "source": [
    "Based on the above table there may be opportunity in Czech Republic, United Kingdom, and India. However, because the data from each of these countries is relatively low, we should be cautious about spending too much money on new marketing campaigns as the sample size isn't large enough to give us high confidence. A better approach would be to run small campaigns in these countries, collecting and analyzing data from new customers to test if these trends continue to hold with new customers.\n"
   ]
  },
  {
   "cell_type": "markdown",
   "metadata": {},
   "source": [
    "## Analyzing Consumer Preference: What Fraction of Sales are Entire Albums?"
   ]
  },
  {
   "cell_type": "code",
   "execution_count": 85,
   "metadata": {
    "scrolled": true
   },
   "outputs": [
    {
     "name": "stdout",
     "output_type": "stream",
     "text": [
      " * sqlite:///chinook.db\n",
      "Done.\n"
     ]
    },
    {
     "data": {
      "text/html": [
       "<table>\n",
       "    <thead>\n",
       "        <tr>\n",
       "            <th>purchase_type</th>\n",
       "            <th>number_of_invoices</th>\n",
       "            <th>invoice_percentage</th>\n",
       "        </tr>\n",
       "    </thead>\n",
       "    <tbody>\n",
       "        <tr>\n",
       "            <td>album</td>\n",
       "            <td>114</td>\n",
       "            <td>19.0</td>\n",
       "        </tr>\n",
       "        <tr>\n",
       "            <td>single</td>\n",
       "            <td>500</td>\n",
       "            <td>81.0</td>\n",
       "        </tr>\n",
       "    </tbody>\n",
       "</table>"
      ],
      "text/plain": [
       "[('album', 114, 19.0), ('single', 500, 81.0)]"
      ]
     },
     "execution_count": 85,
     "metadata": {},
     "output_type": "execute_result"
    }
   ],
   "source": [
    "%%sql\n",
    "\n",
    "WITH \n",
    "\n",
    "-- Add album id information for every track found in each invoice\n",
    "    invoice_info AS\n",
    "    (SELECT invoice_id, il.track_id, t.album_id\n",
    "       FROM invoice_line il\n",
    "       LEFT JOIN track t ON t.track_id=il.track_id\n",
    "    ),\n",
    "    \n",
    "-- Find the numbers of tracks for each album id    \n",
    "    album_info AS\n",
    "    (SELECT album_id, COUNT(track_id) album_track_count\n",
    "       FROM track\n",
    "      GROUP BY album_id\n",
    "    ),\n",
    "\n",
    "-- Add the track count for every album tied to individual tracks found in each invoice    \n",
    "    invoice_album_info AS\n",
    "    (SELECT *\n",
    "       FROM invoice_info i\n",
    "       LEFT JOIN album_info a ON a.album_id=i.album_id     \n",
    "    ),\n",
    "  \n",
    "-- Create a table that for each invoice: \n",
    "-- 1) tallies the number of different albums the tracks in it belong to\n",
    "-- 2) picks out a single sample track and shows the id and number of tracks for the album this sample track is from \n",
    "    invoice_album_track_counts AS\n",
    "    (SELECT invoice_id,\n",
    "            COUNT(DISTINCT album_id) invoice_album_count,\n",
    "            COUNT(track_id) invoice_track_count,\n",
    "            track_id sample_track_id,\n",
    "            album_id sample_track_album_id,\n",
    "            album_track_count sample_album_track_count\n",
    "       FROM invoice_album_info\n",
    "      GROUP BY invoice_id\n",
    "      ),\n",
    "  \n",
    "--Add a column to the last table that categorizes whether each invoice was an entire album purchase or just a collection of singles\n",
    "    single_v_album AS\n",
    "    (SELECT *,\n",
    "            CASE\n",
    "                WHEN (invoice_album_count=1 AND invoice_track_count=sample_album_track_count) THEN \"album\"\n",
    "                ELSE \"single\"\n",
    "                END AS purchase_type\n",
    "     FROM invoice_album_track_counts\n",
    "    )\n",
    "    \n",
    "           \n",
    "SELECT purchase_type,\n",
    "       COUNT(invoice_id) number_of_invoices,\n",
    "       ROUND(CAST(COUNT(invoice_id) AS FLOAT)/ (SELECT COUNT(invoice_id) FROM single_v_album),2)*100 invoice_percentage\n",
    "FROM single_v_album\n",
    " GROUP BY purchase_type;\n"
   ]
  },
  {
   "cell_type": "markdown",
   "metadata": {},
   "source": [
    "Approximately one-fifth of purchases are from sales of entire albums, making this purchase type a significant driver of sales. Continuing to purchase all tracks from an album, instead of only popular tracks, is a good strategy as there is demand for the whole album."
   ]
  }
 ],
 "metadata": {
  "kernelspec": {
   "display_name": "Python 3 (ipykernel)",
   "language": "python",
   "name": "python3"
  },
  "language_info": {
   "codemirror_mode": {
    "name": "ipython",
    "version": 3
   },
   "file_extension": ".py",
   "mimetype": "text/x-python",
   "name": "python",
   "nbconvert_exporter": "python",
   "pygments_lexer": "ipython3",
   "version": "3.9.12"
  }
 },
 "nbformat": 4,
 "nbformat_minor": 2
}
